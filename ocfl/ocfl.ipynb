{
 "cells": [
  {
   "cell_type": "code",
   "execution_count": 1,
   "id": "fccf5978",
   "metadata": {},
   "outputs": [],
   "source": [
    "# pio3 install ocfl"
   ]
  },
  {
   "cell_type": "code",
   "execution_count": 2,
   "id": "4d8e6b9a",
   "metadata": {},
   "outputs": [],
   "source": [
    "import os\n",
    "from pyocfl.pyocfl import *"
   ]
  },
  {
   "cell_type": "code",
   "execution_count": 3,
   "id": "b80197b7",
   "metadata": {},
   "outputs": [],
   "source": [
    "! rm -rf test_root\n",
    "! rm -rf test_objects\n",
    "! mkdir test_objects\n",
    "! cp -r source-data/obj1 test_objects/"
   ]
  },
  {
   "cell_type": "code",
   "execution_count": 4,
   "id": "7948b728",
   "metadata": {},
   "outputs": [],
   "source": [
    "root = os.path.join('test_root')\n",
    "o    = 'test_objects/obj1/'"
   ]
  },
  {
   "cell_type": "code",
   "execution_count": 5,
   "id": "9fd1a900",
   "metadata": {},
   "outputs": [],
   "source": [
    "# OCFL root\n",
    "sr = OCFLStorageRoot(root, storage='storage_pair_tree')"
   ]
  },
  {
   "cell_type": "code",
   "execution_count": 6,
   "id": "1b5bf83e",
   "metadata": {},
   "outputs": [],
   "source": [
    "sr.new()"
   ]
  },
  {
   "cell_type": "code",
   "execution_count": 7,
   "id": "57bc4f7a",
   "metadata": {},
   "outputs": [
    {
     "name": "stdout",
     "output_type": "stream",
     "text": [
      "namaste - directory type ocfl - version 1.0\n"
     ]
    },
    {
     "data": {
      "text/plain": [
       "True"
      ]
     },
     "execution_count": 7,
     "metadata": {},
     "output_type": "execute_result"
    }
   ],
   "source": [
    "sr.verify_dec() "
   ]
  },
  {
   "cell_type": "code",
   "execution_count": 8,
   "id": "a125e3b0",
   "metadata": {},
   "outputs": [],
   "source": [
    "# init OCFLObject instancd with path of \"raw\" directory\n",
    "obj = OCFLObject(o)"
   ]
  },
  {
   "cell_type": "code",
   "execution_count": 9,
   "id": "9aff4aac",
   "metadata": {},
   "outputs": [
    {
     "data": {
      "text/plain": [
       "False"
      ]
     },
     "execution_count": 9,
     "metadata": {},
     "output_type": "execute_result"
    }
   ],
   "source": [
    "obj.is_ocfl_object()"
   ]
  },
  {
   "cell_type": "code",
   "execution_count": 10,
   "id": "ec6be84c",
   "metadata": {},
   "outputs": [
    {
     "name": "stderr",
     "output_type": "stream",
     "text": [
      "DEBUG:pyocfl.pyocfl:v1/content/IMG_20210228_092707.jpg : 8b32ec508bee89ca5272a9c33ad364f2\n",
      "DEBUG:pyocfl.pyocfl:v1/content/RiC.ttl : d6000b2606d621c3718b618ce86a6e1e\n",
      "DEBUG:pyocfl.pyocfl:IMG_20210228_092707.jpg : 8b32ec508bee89ca5272a9c33ad364f2\n",
      "DEBUG:pyocfl.pyocfl:RiC.ttl : d6000b2606d621c3718b618ce86a6e1e\n",
      "DEBUG:pyocfl.pyocfl:object contains only single version, skipping forward delta reconciliation\n",
      "DEBUG:pyocfl.pyocfl:updated elapsed: 0.018748760223388672\n"
     ]
    }
   ],
   "source": [
    "obj.new() # run .new() method to convert to OCFL Object"
   ]
  },
  {
   "cell_type": "code",
   "execution_count": 11,
   "id": "f2af44ad",
   "metadata": {},
   "outputs": [],
   "source": [
    "# verify now an OCFL Object\n",
    "#obj.is_ocfl_object()"
   ]
  },
  {
   "cell_type": "code",
   "execution_count": 12,
   "id": "dd310100",
   "metadata": {},
   "outputs": [],
   "source": [
    "#! mkdir -p test_objects/obj1/v2/content\n",
    "! mkdir -p test_objects/obj1/v2/\n",
    "! cp -r test_objects/obj1/v1/* test_objects/obj1/v2/\n",
    "! cp -r source-data/v2/* test_objects/obj1/v2/content"
   ]
  },
  {
   "cell_type": "code",
   "execution_count": 13,
   "id": "52525f7e",
   "metadata": {},
   "outputs": [
    {
     "name": "stderr",
     "output_type": "stream",
     "text": [
      "DEBUG:pyocfl.pyocfl:v1/content/IMG_20210228_092707.jpg : 8b32ec508bee89ca5272a9c33ad364f2\n",
      "DEBUG:pyocfl.pyocfl:v1/content/RiC.ttl : d6000b2606d621c3718b618ce86a6e1e\n",
      "DEBUG:pyocfl.pyocfl:v2/content/IMG_20210228_092707.jpg : 8b32ec508bee89ca5272a9c33ad364f2\n",
      "DEBUG:pyocfl.pyocfl:v2/content/RiC.ttl : d6000b2606d621c3718b618ce86a6e1e\n",
      "DEBUG:pyocfl.pyocfl:v2/content/cal.txt : 7ef91b01085fc5907ae3776013c4df33\n",
      "DEBUG:pyocfl.pyocfl:IMG_20210228_092707.jpg : 8b32ec508bee89ca5272a9c33ad364f2\n",
      "DEBUG:pyocfl.pyocfl:RiC.ttl : d6000b2606d621c3718b618ce86a6e1e\n",
      "DEBUG:pyocfl.pyocfl:IMG_20210228_092707.jpg : 8b32ec508bee89ca5272a9c33ad364f2\n",
      "DEBUG:pyocfl.pyocfl:RiC.ttl : d6000b2606d621c3718b618ce86a6e1e\n",
      "DEBUG:pyocfl.pyocfl:cal.txt : 7ef91b01085fc5907ae3776013c4df33\n",
      "DEBUG:pyocfl.pyocfl:reconcialing v2\n",
      "DEBUG:pyocfl.pyocfl:{'created': '2022-05-11T21:09:08Z', 'message': None, 'state': {'8b32ec508bee89ca5272a9c33ad364f2': ['IMG_20210228_092707.jpg'], 'd6000b2606d621c3718b618ce86a6e1e': ['RiC.ttl'], '7ef91b01085fc5907ae3776013c4df33': ['cal.txt']}}\n",
      "DEBUG:pyocfl.pyocfl:checking version ancestors for digest: 8b32ec508bee89ca5272a9c33ad364f2\n",
      "DEBUG:pyocfl.pyocfl:digest found in v1\n",
      "DEBUG:pyocfl.pyocfl:removing file from v2: test_objects/obj1/v2/content/IMG_20210228_092707.jpg\n",
      "DEBUG:pyocfl.pyocfl:checking version ancestors for digest: d6000b2606d621c3718b618ce86a6e1e\n",
      "DEBUG:pyocfl.pyocfl:digest found in v1\n",
      "DEBUG:pyocfl.pyocfl:removing file from v2: test_objects/obj1/v2/content/RiC.ttl\n",
      "DEBUG:pyocfl.pyocfl:checking version ancestors for digest: 7ef91b01085fc5907ae3776013c4df33\n",
      "DEBUG:pyocfl.pyocfl:digest not found, unique to v2 against ancestor v1\n",
      "DEBUG:pyocfl.pyocfl:updating inventory.json with new physical files manifest\n",
      "DEBUG:pyocfl.pyocfl:updated elapsed: 0.04544496536254883\n"
     ]
    }
   ],
   "source": [
    "obj.update()"
   ]
  },
  {
   "cell_type": "code",
   "execution_count": 14,
   "id": "2f93d926",
   "metadata": {},
   "outputs": [
    {
     "name": "stderr",
     "output_type": "stream",
     "text": [
      "DEBUG:pyocfl.pyocfl:v1/content/IMG_20210228_092707.jpg : 8b32ec508bee89ca5272a9c33ad364f2\n",
      "DEBUG:pyocfl.pyocfl:v1/content/RiC.ttl : d6000b2606d621c3718b618ce86a6e1e\n",
      "DEBUG:pyocfl.pyocfl:v2/content/cal.txt : 7ef91b01085fc5907ae3776013c4df33\n",
      "DEBUG:pyocfl.pyocfl:v3/content/cal.txt : 7ef91b01085fc5907ae3776013c4df33\n",
      "DEBUG:pyocfl.pyocfl:IMG_20210228_092707.jpg : 8b32ec508bee89ca5272a9c33ad364f2\n",
      "DEBUG:pyocfl.pyocfl:RiC.ttl : d6000b2606d621c3718b618ce86a6e1e\n",
      "DEBUG:pyocfl.pyocfl:cal.txt : 7ef91b01085fc5907ae3776013c4df33\n",
      "DEBUG:pyocfl.pyocfl:cal.txt : 7ef91b01085fc5907ae3776013c4df33\n",
      "DEBUG:pyocfl.pyocfl:reconcialing v2\n",
      "DEBUG:pyocfl.pyocfl:{'created': '2022-05-11T21:09:08Z', 'message': None, 'state': {'7ef91b01085fc5907ae3776013c4df33': ['cal.txt']}}\n",
      "DEBUG:pyocfl.pyocfl:checking version ancestors for digest: 7ef91b01085fc5907ae3776013c4df33\n",
      "DEBUG:pyocfl.pyocfl:digest not found, unique to v2 against ancestor v1\n",
      "DEBUG:pyocfl.pyocfl:reconcialing v3\n",
      "DEBUG:pyocfl.pyocfl:{'created': '2022-05-11T21:09:08Z', 'message': None, 'state': {'7ef91b01085fc5907ae3776013c4df33': ['cal.txt']}}\n",
      "DEBUG:pyocfl.pyocfl:checking version ancestors for digest: 7ef91b01085fc5907ae3776013c4df33\n",
      "DEBUG:pyocfl.pyocfl:digest not found, unique to v3 against ancestor v1\n",
      "DEBUG:pyocfl.pyocfl:digest found in v2\n",
      "DEBUG:pyocfl.pyocfl:removing file from v3: test_objects/obj1/v3/content/cal.txt\n",
      "DEBUG:pyocfl.pyocfl:updating inventory.json with new physical files manifest\n",
      "DEBUG:pyocfl.pyocfl:updated elapsed: 0.03032517433166504\n"
     ]
    }
   ],
   "source": [
    "! mkdir -p test_objects/obj1/v3/\n",
    "! cp -r test_objects/obj1/v2/* test_objects/obj1/v3/\n",
    "! cp -r source-data/v3/* test_objects/obj1/v3/content\n",
    "obj.update()"
   ]
  },
  {
   "cell_type": "raw",
   "id": "2a31ab6d",
   "metadata": {},
   "source": [
    "! mkdir -p test_objects/obj1/v3/content\n",
    "! cp -r source-data/v3/* test_objects/obj1/v3/content\n",
    "obj.update()"
   ]
  },
  {
   "cell_type": "code",
   "execution_count": 15,
   "id": "59234288",
   "metadata": {},
   "outputs": [],
   "source": [
    "#sr.add_object(obj) # target_id='obj1'"
   ]
  }
 ],
 "metadata": {
  "kernelspec": {
   "display_name": "Python 3 (ipykernel)",
   "language": "python",
   "name": "python3"
  },
  "language_info": {
   "codemirror_mode": {
    "name": "ipython",
    "version": 3
   },
   "file_extension": ".py",
   "mimetype": "text/x-python",
   "name": "python",
   "nbconvert_exporter": "python",
   "pygments_lexer": "ipython3",
   "version": "3.10.4"
  }
 },
 "nbformat": 4,
 "nbformat_minor": 5
}
