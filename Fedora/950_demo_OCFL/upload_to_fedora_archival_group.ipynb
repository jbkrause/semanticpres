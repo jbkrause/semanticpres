{
 "cells": [
  {
   "cell_type": "code",
   "execution_count": 1,
   "id": "5726528a",
   "metadata": {},
   "outputs": [],
   "source": [
    "import requests\n",
    "import os\n",
    "import re"
   ]
  },
  {
   "cell_type": "code",
   "execution_count": 2,
   "id": "c8494878",
   "metadata": {},
   "outputs": [],
   "source": [
    "protocol  = 'http'\n",
    "host      = 'localhost'\n",
    "port      = '8080'\n",
    "user      = 'fedoraAdmin'\n",
    "pwd       = 'fedoraAdmin'\n",
    "\n",
    "fedoraUrl = protocol + '://' + host + ':' + port + '/rest/' \n",
    "auth = (user, pwd)\n",
    "\n",
    "headers = {\"Content-Type\": \"text/turtle\"}\n",
    "\n",
    "headers2 = {\"Content-Type\": \"text/turtle\",\n",
    "            \"Link\": '<http://fedora.info/definitions/v4/repository#ArchivalGroup>;rel=\"type\"'}\n",
    "\n",
    "mimetype = \"application/pdf\"\n",
    "headers3 = {\"Content-Type\": mimetype,\n",
    "                \"Link\" :\"<http://www.w3.org/ns/ldp#NonRDFSource>; rel=type\"}"
   ]
  },
  {
   "cell_type": "markdown",
   "id": "73590b59",
   "metadata": {},
   "source": [
    "# 1 -  with archival group\n",
    "##  1.1 - create dossier"
   ]
  },
  {
   "cell_type": "code",
   "execution_count": 3,
   "id": "b59e168f",
   "metadata": {},
   "outputs": [
    {
     "name": "stdout",
     "output_type": "stream",
     "text": [
      "9a3f45.ttl -> http://localhost:8080/rest/record/9a3f45 -> 201\n"
     ]
    }
   ],
   "source": [
    "uploadDir = 'dossier'\n",
    "\n",
    "urlRecords = fedoraUrl + 'record/' \n",
    "\n",
    "c = 0\n",
    "for fname in os.listdir(uploadDir):\n",
    "    \n",
    "    c+=1\n",
    "\n",
    "    \n",
    "    #fname = '066-58_2.0.0.ttl'\n",
    "    data = open(uploadDir + os.sep + fname, 'r', encoding=\"utf-8\").read()\n",
    "\n",
    "    nodeName = fname.replace('.ttl','').replace('-',':')\n",
    "    urlNode = urlRecords  + nodeName\n",
    "    \n",
    "    # fedora requires <> placeholders for container URIs\n",
    "    pattern = 'http://127.0.0.1:8080/rest/record/'\n",
    "    n1 = data.find(pattern)\n",
    "    n2 = data.find('>', n1+1)\n",
    "    rid = data[n1+len(pattern):n2]\n",
    "    \n",
    "    data = data.replace(pattern+rid,'')\n",
    "\n",
    "    #print(data)\n",
    "    #print('\\n==================\\n')\n",
    "    #if c > 5:\n",
    "    #    break\n",
    "    \n",
    "    r = requests.put(urlNode, auth=auth, data=data.encode('utf-8'), headers=headers2) # data.encode('utf-8')\n",
    "    print(fname, '->' , urlNode, '->', r.status_code)"
   ]
  },
  {
   "cell_type": "markdown",
   "id": "02e993db",
   "metadata": {},
   "source": [
    "##  1.1 - create document"
   ]
  },
  {
   "cell_type": "code",
   "execution_count": 4,
   "id": "478e2c59",
   "metadata": {},
   "outputs": [
    {
     "name": "stdout",
     "output_type": "stream",
     "text": [
      "9a3f45_2cf431.ttl -> http://localhost:8080/rest/record/9a3f45/2cf431 -> 201\n",
      "9a3f45_2cf431_i0.ttl -> http://localhost:8080/rest/record/9a3f45/2cf431/i0 -> 201\n",
      "9a3f45_2cf431_i0_f1.ttl -> http://localhost:8080/rest/record/9a3f45/2cf431/i0/f1 -> 201\n",
      "9a3f45_2cf431_i1.ttl -> http://localhost:8080/rest/record/9a3f45/2cf431/i1 -> 201\n",
      "9a3f45_2cf431_i1_f1.ttl -> http://localhost:8080/rest/record/9a3f45/2cf431/i1/f1 -> 201\n",
      "9a3f45_2cf431_i3.ttl -> http://localhost:8080/rest/record/9a3f45/2cf431/i3 -> 201\n"
     ]
    }
   ],
   "source": [
    "uploadDir = 'document'\n",
    "\n",
    "urlRecords = fedoraUrl + 'record/' \n",
    "\n",
    "c = 0\n",
    "for fname in os.listdir(uploadDir):\n",
    "    \n",
    "    c+=1\n",
    "\n",
    "    \n",
    "    #fname = '066-58_2.0.0.ttl'\n",
    "    data = open(uploadDir + os.sep + fname, 'r', encoding=\"utf-8\").read()\n",
    "\n",
    "    nodeName = fname.replace('.ttl','').replace('-',':').replace('_','/')\n",
    "    urlNode = urlRecords  + nodeName\n",
    "    \n",
    "    # fedora requires <> placeholders for container URIs\n",
    "    pattern = 'http://127.0.0.1:8080/rest/record/'\n",
    "    n1 = data.find(pattern)\n",
    "    n2 = data.find('>', n1+1)\n",
    "    rid = data[n1+len(pattern):n2]\n",
    "    \n",
    "    data = data.replace(pattern+rid,'')\n",
    "\n",
    "    #print(data)\n",
    "    #print('\\n==================\\n')\n",
    "    #if c > 5:\n",
    "    #    break\n",
    "    \n",
    "    r = requests.put(urlNode, auth=auth, data=data.encode('utf-8'), headers=headers) # data.encode('utf-8')\n",
    "    print(fname, '->' , urlNode, '->', r.status_code)\n",
    "\n",
    "\n"
   ]
  },
  {
   "cell_type": "code",
   "execution_count": 5,
   "id": "485c8333",
   "metadata": {},
   "outputs": [
    {
     "name": "stdout",
     "output_type": "stream",
     "text": [
      "binaries\\i1f1.pdf -> http://localhost:8080/rest/record/9a3f45/2cf431/i1/f1/binary -> 201\n"
     ]
    }
   ],
   "source": [
    "uploadDir = 'binaries'\n",
    "\n",
    "fname = uploadDir + os.sep + 'i1f1.pdf'\n",
    "data = open(fname, 'rb').read()\n",
    "nodeName = fname.replace('.ttl','').replace('-',':').replace('_','/')\n",
    "urlNode = urlRecords  + '9a3f45/2cf431/i1/f1/binary'\n",
    "r = requests.put(urlNode, auth=auth, data=data, headers=headers3) \n",
    "print(fname, '->' , urlNode, '->', r.status_code)\n"
   ]
  },
  {
   "cell_type": "code",
   "execution_count": 6,
   "id": "40fc9281",
   "metadata": {},
   "outputs": [
    {
     "name": "stdout",
     "output_type": "stream",
     "text": [
      "binaries\\i0f1.docx -> http://localhost:8080/rest/record/9a3f45/2cf431/i0/f1/binary -> 201\n"
     ]
    }
   ],
   "source": [
    "\n",
    "mimetype = \"application/vnd.openxmlformats-officedocument.wordprocessingml.document\"\n",
    "headers3 = {\"Content-Type\": mimetype,\n",
    "                \"Link\" :\"<http://www.w3.org/ns/ldp#NonRDFSource>; rel=type\"}\n",
    "\n",
    "fname = uploadDir + os.sep + 'i0f1.docx'\n",
    "data = open(fname, 'rb').read()\n",
    "nodeName = fname.replace('.ttl','').replace('-',':').replace('_','/')\n",
    "urlNode = urlRecords  + '9a3f45/2cf431/i0/f1/binary'\n",
    "r = requests.put(urlNode, auth=auth, data=data, headers=headers3) \n",
    "print(fname, '->' , urlNode, '->', r.status_code)\n",
    "\n",
    "\n"
   ]
  }
 ],
 "metadata": {
  "kernelspec": {
   "display_name": "Python 3 (ipykernel)",
   "language": "python",
   "name": "python3"
  },
  "language_info": {
   "codemirror_mode": {
    "name": "ipython",
    "version": 3
   },
   "file_extension": ".py",
   "mimetype": "text/x-python",
   "name": "python",
   "nbconvert_exporter": "python",
   "pygments_lexer": "ipython3",
   "version": "3.9.12"
  }
 },
 "nbformat": 4,
 "nbformat_minor": 5
}
