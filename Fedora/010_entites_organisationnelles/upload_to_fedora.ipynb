{
 "cells": [
  {
   "cell_type": "code",
   "execution_count": 1,
   "id": "5726528a",
   "metadata": {},
   "outputs": [],
   "source": [
    "import requests\n",
    "import os\n",
    "import re"
   ]
  },
  {
   "cell_type": "code",
   "execution_count": 2,
   "id": "3fb9c8df",
   "metadata": {},
   "outputs": [],
   "source": [
    "uploadDir = 'Fedora'"
   ]
  },
  {
   "cell_type": "code",
   "execution_count": 3,
   "id": "c8494878",
   "metadata": {},
   "outputs": [],
   "source": [
    "protocol  = 'http'\n",
    "host      = 'localhost'\n",
    "port      = '8080'\n",
    "user      = 'fedoraAdmin'\n",
    "pwd       = 'fedoraAdmin'\n",
    "\n",
    "fedoraUrl = protocol + '://' + host + ':' + port + '/rest/' \n",
    "auth = (user, pwd)\n",
    "\n",
    "headers = {\"Content-Type\": \"text/turtle\"}\n",
    "\n",
    "headers2 = {\"Content-Type\": \"text/turtle\",\n",
    "            \"Link\": '<http://fedora.info/definitions/v4/repository#ArchivalGroup>;rel=\"type\"'}"
   ]
  },
  {
   "cell_type": "code",
   "execution_count": 4,
   "id": "478e2c59",
   "metadata": {},
   "outputs": [
    {
     "name": "stdout",
     "output_type": "stream",
     "text": [
      "201\n",
      "201\n",
      "201\n",
      "201\n"
     ]
    },
    {
     "ename": "PermissionError",
     "evalue": "[Errno 13] Permission denied: 'Fedora\\\\tmp'",
     "output_type": "error",
     "traceback": [
      "\u001b[1;31m---------------------------------------------------------------------------\u001b[0m",
      "\u001b[1;31mPermissionError\u001b[0m                           Traceback (most recent call last)",
      "Input \u001b[1;32mIn [4]\u001b[0m, in \u001b[0;36m<cell line: 10>\u001b[1;34m()\u001b[0m\n\u001b[0;32m     12\u001b[0m c\u001b[38;5;241m+\u001b[39m\u001b[38;5;241m=\u001b[39m\u001b[38;5;241m1\u001b[39m\n\u001b[0;32m     15\u001b[0m \u001b[38;5;66;03m#fname = '066-58_2.0.0.ttl'\u001b[39;00m\n\u001b[1;32m---> 16\u001b[0m data \u001b[38;5;241m=\u001b[39m \u001b[38;5;28;43mopen\u001b[39;49m\u001b[43m(\u001b[49m\u001b[43muploadDir\u001b[49m\u001b[43m \u001b[49m\u001b[38;5;241;43m+\u001b[39;49m\u001b[43m \u001b[49m\u001b[43mos\u001b[49m\u001b[38;5;241;43m.\u001b[39;49m\u001b[43msep\u001b[49m\u001b[43m \u001b[49m\u001b[38;5;241;43m+\u001b[39;49m\u001b[43m \u001b[49m\u001b[43mfname\u001b[49m\u001b[43m,\u001b[49m\u001b[43m \u001b[49m\u001b[38;5;124;43m'\u001b[39;49m\u001b[38;5;124;43mr\u001b[39;49m\u001b[38;5;124;43m'\u001b[39;49m\u001b[43m,\u001b[49m\u001b[43m \u001b[49m\u001b[43mencoding\u001b[49m\u001b[38;5;241;43m=\u001b[39;49m\u001b[38;5;124;43m\"\u001b[39;49m\u001b[38;5;124;43mutf-8\u001b[39;49m\u001b[38;5;124;43m\"\u001b[39;49m\u001b[43m)\u001b[49m\u001b[38;5;241m.\u001b[39mread()\n\u001b[0;32m     18\u001b[0m nodeName \u001b[38;5;241m=\u001b[39m fname\u001b[38;5;241m.\u001b[39mreplace(\u001b[38;5;124m'\u001b[39m\u001b[38;5;124m.ttl\u001b[39m\u001b[38;5;124m'\u001b[39m,\u001b[38;5;124m'\u001b[39m\u001b[38;5;124m'\u001b[39m)\u001b[38;5;241m.\u001b[39mreplace(\u001b[38;5;124m'\u001b[39m\u001b[38;5;124m-\u001b[39m\u001b[38;5;124m'\u001b[39m,\u001b[38;5;124m'\u001b[39m\u001b[38;5;124m:\u001b[39m\u001b[38;5;124m'\u001b[39m)\n\u001b[0;32m     19\u001b[0m urlNode \u001b[38;5;241m=\u001b[39m urlRecords  \u001b[38;5;241m+\u001b[39m nodeName\n",
      "\u001b[1;31mPermissionError\u001b[0m: [Errno 13] Permission denied: 'Fedora\\\\tmp'"
     ]
    }
   ],
   "source": [
    "#def create_dossier(fedoraUrl, auth, unit, \n",
    "#                   did='D1', callnr='M.10.01-D2', parent='acv/referential/235', children=[1],\n",
    "#                   creator = 'agents/roche/66', title='Test title', description='Desc.',\n",
    "#                   transaction = None  ):\n",
    "\n",
    "    \n",
    "urlRecords = fedoraUrl + 'agent/' \n",
    "\n",
    "c = 0\n",
    "for fname in os.listdir(uploadDir):\n",
    "    \n",
    "    c+=1\n",
    "\n",
    "    \n",
    "    #fname = '066-58_2.0.0.ttl'\n",
    "    data = open(uploadDir + os.sep + fname, 'r', encoding=\"utf-8\").read()\n",
    "\n",
    "    nodeName = fname.replace('.ttl','').replace('-',':')\n",
    "    urlNode = urlRecords  + nodeName\n",
    "    \n",
    "    # fedora requires <> placeholders for container URIs\n",
    "    #pattern = 'http://127.0.0.1:8080/rest/agent/'\n",
    "    #n1 = data.find(pattern)\n",
    "    #n2 = data.find('>', n1+1)\n",
    "    #rid = data[n1+len(pattern):n2]\n",
    "    \n",
    "    #data = data.replace(pattern+rid,'')\n",
    "\n",
    "    #print(data)\n",
    "    #print('\\n==================\\n')\n",
    "    #if c > 5:\n",
    "    #    break\n",
    "    \n",
    "    r = requests.put(urlNode, auth=auth, data=data.encode('utf-8'), headers=headers) # data.encode('utf-8')\n",
    "    print(r.status_code)\n",
    "\n",
    "\n"
   ]
  },
  {
   "cell_type": "raw",
   "id": "71042cc1",
   "metadata": {},
   "source": [
    "uri = 'http://localhost:8080/rest/refgd/066:58_2.0.0'\n",
    "\n",
    "r = requests.get(uri, auth=auth)\n",
    "\n",
    "print(r.status_code)\n",
    "print(r.text)"
   ]
  }
 ],
 "metadata": {
  "kernelspec": {
   "display_name": "Python 3 (ipykernel)",
   "language": "python",
   "name": "python3"
  },
  "language_info": {
   "codemirror_mode": {
    "name": "ipython",
    "version": 3
   },
   "file_extension": ".py",
   "mimetype": "text/x-python",
   "name": "python",
   "nbconvert_exporter": "python",
   "pygments_lexer": "ipython3",
   "version": "3.9.12"
  }
 },
 "nbformat": 4,
 "nbformat_minor": 5
}
