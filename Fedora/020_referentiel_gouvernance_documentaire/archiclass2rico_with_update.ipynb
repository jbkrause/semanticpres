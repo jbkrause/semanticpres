{
 "cells": [
  {
   "cell_type": "markdown",
   "metadata": {},
   "source": [
    "# Processing Archiclass Export\n",
    "\n",
    "## Paramètres\n"
   ]
  },
  {
   "cell_type": "code",
   "execution_count": 1,
   "metadata": {},
   "outputs": [],
   "source": [
    "from collections import defaultdict\n",
    "import unicodedata\n",
    "import os\n",
    "from datetime import date, timedelta"
   ]
  },
  {
   "cell_type": "code",
   "execution_count": 2,
   "metadata": {},
   "outputs": [],
   "source": [
    "import pandas as pd"
   ]
  },
  {
   "cell_type": "code",
   "execution_count": 3,
   "metadata": {},
   "outputs": [],
   "source": [
    "from rdflib import Graph, Literal, RDF, URIRef, BNode, Namespace\n",
    "from rdflib.namespace import  XSD, DC, DCTERMS, OWL, SKOS, RDFS\n"
   ]
  },
  {
   "cell_type": "code",
   "execution_count": 4,
   "metadata": {},
   "outputs": [],
   "source": [
    "baseUrl = 'http://127.0.0.1:8080/rest'"
   ]
  },
  {
   "cell_type": "code",
   "execution_count": 5,
   "metadata": {},
   "outputs": [],
   "source": [
    "archiclass_export = '066_ACV_REFGD_20221028.csv'\n",
    "version = '1.0.0'\n",
    "validationDate = date(2022,10,28)"
   ]
  },
  {
   "cell_type": "code",
   "execution_count": 6,
   "metadata": {},
   "outputs": [],
   "source": [
    "archiclass_export_2 = '066_ACV_REFGD_20230110.csv'\n",
    "version_2 = '2.0.0'\n",
    "validationDate_2 = date(2023,1,10)"
   ]
  },
  {
   "cell_type": "code",
   "execution_count": 7,
   "metadata": {},
   "outputs": [],
   "source": [
    "archiclass_export_3 = '066_ACV_REFGD_20230120.csv'\n",
    "version_3 = '3.0.0'\n",
    "validationDate_3 = date(2023,1,20)"
   ]
  },
  {
   "cell_type": "code",
   "execution_count": 8,
   "metadata": {},
   "outputs": [],
   "source": [
    "output_folder = 'rico_output'"
   ]
  },
  {
   "cell_type": "markdown",
   "metadata": {},
   "source": [
    "#### Ajout du prefix sur les identifiants"
   ]
  },
  {
   "cell_type": "code",
   "execution_count": 9,
   "metadata": {},
   "outputs": [],
   "source": [
    "prefix = '066'"
   ]
  },
  {
   "cell_type": "markdown",
   "metadata": {},
   "source": [
    "#### Préfixes"
   ]
  },
  {
   "cell_type": "code",
   "execution_count": 10,
   "metadata": {},
   "outputs": [],
   "source": [
    "rico_ns = 'https://www.ica.org/standards/RiC/ontology#'\n",
    "RICO = Namespace(rico_ns)\n",
    "\n",
    "premis_ns = 'http://www.loc.gov/premis/rdf/v1#'\n",
    "PREMIS = Namespace(premis_ns)\n",
    "\n",
    "record_ns = baseUrl + '/refgd/'\n",
    "RECORD = Namespace(record_ns)\n",
    "\n",
    "agent_ns = baseUrl + '/agent/'\n",
    "AGENT = Namespace(agent_ns)\n",
    "\n",
    "type_ns = baseUrl + '/type/'\n",
    "TYPE = Namespace(type_ns)"
   ]
  },
  {
   "cell_type": "markdown",
   "metadata": {},
   "source": [
    "## Code "
   ]
  },
  {
   "cell_type": "code",
   "execution_count": 11,
   "metadata": {},
   "outputs": [],
   "source": [
    "def remove_diacritics(s):\n",
    "    return ''.join((c for c in unicodedata.normalize('NFD', s) if unicodedata.category(c) != 'Mn'))\n",
    "\n",
    "def remove_sepcial_chars(s):\n",
    "    s2 = s\n",
    "    # replace by underscores\n",
    "    chr_to_replace = [ ' ', '\"', \"'\", '/', '\\\\', '-', '&', ',', '.', ';', '~', '?', '!', '`', '^' ]\n",
    "    for c in chr_to_replace:\n",
    "        s2 = s2.replace(c, '_')    \n",
    "    # remove multiple underscores\n",
    "    s2 = s2.replace('__', '_').replace('__', '_').replace('__', '_')\n",
    "    return s2\n",
    "\n",
    "def normalize_title(s):\n",
    "    return remove_sepcial_chars(str(remove_diacritics(s)))\n",
    "\n",
    "def strip_textfield(s):\n",
    "    if isinstance(s, str):\n",
    "        return s.strip('\"= ')\n",
    "    else:\n",
    "        return ''\n",
    "    \n",
    "def strip_textfield2(s):\n",
    "        return s.strip('\"= ')\n"
   ]
  },
  {
   "cell_type": "code",
   "execution_count": 12,
   "metadata": {},
   "outputs": [],
   "source": [
    "conv_list = [ 'M3', 'M4', 'M5', 'M6', 'M8_Id', 'M8_ExternalId',\n",
    "       'M8_Value', 'M9_Id', 'M9_ExternalId', 'M9_Value', 'M10_Id',\n",
    "       'M10_ExternalId', 'M10_Value', 'M11_Id', 'M11_ExternalId', 'M11_Value',\n",
    "       'M12', 'M13_Id', 'M13_ExternalId', 'M13_Value', 'M14', 'M15_Id',\n",
    "       'M15_ExternalId', 'M15_Value', 'M16', 'M17_Id', 'M17_ExternalId',\n",
    "       'M17_Value', 'M18.1_Id', 'M18.1_ExternalId', 'M18.1_Value', 'M18.2_Id',\n",
    "       'M18.2_ExternalId', 'M18.2_Value', 'M18.3_Id', 'M18.3_ExternalId',\n",
    "       'M18.3_Value', 'M19.1_Id', 'M19.1_ExternalId', 'M19.1_Value',\n",
    "       'M19.2_Id', 'M19.2_ExternalId', 'M19.2_Value', 'M19.3_Id',\n",
    "       'M19.3_ExternalId', 'M19.3_Value', 'M20_Id', 'M20_ExternalId',\n",
    "       'M20_Value', 'M21_Id', 'M21_ExternalId', 'M21_Value', 'M22', 'M23',\n",
    "       'M24_Id', 'M24_ExternalId', 'M24_Value', 'M25', 'M26_Id',\n",
    "       'M26_ExternalId', 'M26_Value', 'M27_Id', 'M27_ExternalId', 'M27_Value',\n",
    "       'M28', 'M29_Id', 'M29_ExternalId', 'M29_Value', 'M30_Id',\n",
    "       'M30_ExternalId', 'M30_Value', 'M35', 'M36', 'M37', 'M38.1', 'M38.2',\n",
    "       'M39.1', 'M39.2', 'M39.3', 'M40', 'M41', 'M42', 'M43', 'M44' ]"
   ]
  },
  {
   "cell_type": "code",
   "execution_count": 13,
   "metadata": {},
   "outputs": [],
   "source": [
    "converters = {}\n",
    "for x in conv_list:\n",
    "    converters[x]=strip_textfield2"
   ]
  },
  {
   "cell_type": "code",
   "execution_count": 14,
   "metadata": {},
   "outputs": [],
   "source": [
    "df = pd.read_csv(archiclass_export, sep=\";\", converters=converters)"
   ]
  },
  {
   "cell_type": "code",
   "execution_count": 15,
   "metadata": {},
   "outputs": [],
   "source": [
    "df['id'] = df['M1']\n",
    "df['parent_id'] = df['M2']\n",
    "df['support'] = df['M10_ExternalId'].apply(strip_textfield).astype(str)"
   ]
  },
  {
   "cell_type": "code",
   "execution_count": 16,
   "metadata": {},
   "outputs": [],
   "source": [
    "#df = df.applymap(strip_textfield)"
   ]
  },
  {
   "cell_type": "code",
   "execution_count": 17,
   "metadata": {},
   "outputs": [],
   "source": [
    "df2 = pd.read_csv(archiclass_export_2, sep=\";\", converters=converters)\n",
    "df2['id'] = df2['M1']\n",
    "df2['parent_id'] = df2['M2']\n",
    "df2['support'] = df2['M10_ExternalId'].apply(strip_textfield).astype(str)"
   ]
  },
  {
   "cell_type": "code",
   "execution_count": 18,
   "metadata": {},
   "outputs": [],
   "source": [
    "df3 = pd.read_csv(archiclass_export_3, sep=\";\", converters=converters)\n",
    "df3['id'] = df3['M1']\n",
    "df3['parent_id'] = df3['M2']\n",
    "df3['support'] = df3['M10_ExternalId'].apply(strip_textfield).astype(str)"
   ]
  },
  {
   "cell_type": "markdown",
   "metadata": {},
   "source": [
    "### Add prefixes to ids"
   ]
  },
  {
   "cell_type": "code",
   "execution_count": 19,
   "metadata": {},
   "outputs": [],
   "source": [
    "def add_prefix(value, sep=':'):\n",
    "    return prefix + sep + str(value)\n",
    "\n",
    "def add_prefix_d(value):\n",
    "    return add_prefix(value, sep='.')"
   ]
  },
  {
   "cell_type": "code",
   "execution_count": 20,
   "metadata": {},
   "outputs": [],
   "source": [
    "df['M1'] = df['M1'].apply(add_prefix)\n",
    "df['M2'] = df['M2'].apply(add_prefix)\n",
    "df['M3'] = df['M3'].apply(add_prefix_d)"
   ]
  },
  {
   "cell_type": "code",
   "execution_count": 21,
   "metadata": {},
   "outputs": [],
   "source": [
    "sysIds = list(df['M1'])"
   ]
  },
  {
   "cell_type": "code",
   "execution_count": 22,
   "metadata": {},
   "outputs": [],
   "source": [
    "df2['M1'] = df2['M1'].apply(add_prefix)\n",
    "df2['M2'] = df2['M2'].apply(add_prefix)\n",
    "df2['M3'] = df2['M3'].apply(add_prefix_d)"
   ]
  },
  {
   "cell_type": "code",
   "execution_count": 23,
   "metadata": {},
   "outputs": [],
   "source": [
    "sysIds_2 = list(df2['M1'])"
   ]
  },
  {
   "cell_type": "code",
   "execution_count": 24,
   "metadata": {},
   "outputs": [],
   "source": [
    "df3['M1'] = df3['M1'].apply(add_prefix)\n",
    "df3['M2'] = df3['M2'].apply(add_prefix)\n",
    "df3['M3'] = df3['M3'].apply(add_prefix_d)"
   ]
  },
  {
   "cell_type": "code",
   "execution_count": 25,
   "metadata": {},
   "outputs": [],
   "source": [
    "sysIds_3 = list(df3['M1'])"
   ]
  },
  {
   "cell_type": "markdown",
   "metadata": {},
   "source": [
    "### Parents and children"
   ]
  },
  {
   "cell_type": "code",
   "execution_count": 26,
   "metadata": {},
   "outputs": [],
   "source": [
    "children = defaultdict(list)\n",
    "for ix, row in df.iterrows():\n",
    "    if row['M2'] != '-':\n",
    "        children[row['M2']].append(row['M1'])"
   ]
  },
  {
   "cell_type": "code",
   "execution_count": 27,
   "metadata": {},
   "outputs": [],
   "source": [
    "children2 = defaultdict(list)\n",
    "for ix, row in df2.iterrows():\n",
    "    if row['M2'] != '-':\n",
    "        children2[row['M2']].append(row['M1'])"
   ]
  },
  {
   "cell_type": "code",
   "execution_count": 28,
   "metadata": {},
   "outputs": [],
   "source": [
    "children3 = defaultdict(list)\n",
    "for ix, row in df3.iterrows():\n",
    "    if row['M2'] != '-':\n",
    "        children3[row['M2']].append(row['M1'])"
   ]
  },
  {
   "cell_type": "code",
   "execution_count": 29,
   "metadata": {},
   "outputs": [],
   "source": [
    "parents = defaultdict(list)\n",
    "for k in children.keys():\n",
    "    for x in children[k]:\n",
    "        parents[x] = k"
   ]
  },
  {
   "cell_type": "code",
   "execution_count": 30,
   "metadata": {},
   "outputs": [],
   "source": [
    "parents2 = defaultdict(list)\n",
    "for k in children2.keys():\n",
    "    for x in children2[k]:\n",
    "        parents2[x] = k"
   ]
  },
  {
   "cell_type": "code",
   "execution_count": 31,
   "metadata": {},
   "outputs": [],
   "source": [
    "parents3 = defaultdict(list)\n",
    "for k in children3.keys():\n",
    "    for x in children3[k]:\n",
    "        parents3[x] = k"
   ]
  },
  {
   "cell_type": "markdown",
   "metadata": {},
   "source": [
    "### Conver to RiC"
   ]
  },
  {
   "cell_type": "code",
   "execution_count": 32,
   "metadata": {},
   "outputs": [],
   "source": [
    "for ix, r in df.iterrows():\n",
    "    \n",
    "    # Graph\n",
    "    \n",
    "    g = Graph()\n",
    "    g.namespace_manager.bind('rico', URIRef(rico_ns))\n",
    "    g.namespace_manager.bind('premis', URIRef(premis_ns))\n",
    "    g.namespace_manager.bind('record', URIRef(record_ns))\n",
    "    g.namespace_manager.bind('agent', URIRef(agent_ns))\n",
    "    g.namespace_manager.bind('type', URIRef(type_ns))\n",
    " \n",
    "    # Record and its identifiers\n",
    "    \n",
    "    sysId = r['M1']\n",
    "    sysid = BNode()\n",
    "    g.add((sysid, RDF.type, RICO.Identifier))\n",
    "    g.add((sysid, RICO.hasIdentifierType, TYPE.IdRefGD ))\n",
    "    g.add((sysid, RICO.name, Literal(sysId) ))\n",
    "    \n",
    "    refCode  = r['M3']\n",
    "    refcode = BNode()\n",
    "    g.add((refcode, RDF.type, RICO.Identifier))\n",
    "    g.add((refcode, RICO.hasIdentifierType, TYPE.CoteIntellectuelle ))\n",
    "    g.add((refcode, RICO.name, Literal(refCode) ))\n",
    " \n",
    "    uid = RECORD.term(str(sysId) + '_' + str(version))\n",
    "    uid_2 = RECORD.term(str(sysId) + '_' + str(version_2))\n",
    "    \n",
    "    g.add((uid, RDF.type, RICO.RecordSet))\n",
    "    g.add((uid, RDF.type, TYPE.RefGD))\n",
    "    g.add((uid, RICO.recordSetType, TYPE.RefGD))\n",
    "    g.add((uid, RICO.hasOrHadIdentifier, sysid))\n",
    "    g.add((uid, RICO.hasOrHadIdentifier, refcode))\n",
    "    \n",
    "    # Record parent\n",
    "    \n",
    "    if sysId in parents.keys():\n",
    "        parent = RECORD.term(str( parents[sysId] + '_' + version ))\n",
    "        g.add((uid, RICO.isOrWasIncludedIn, parent))\n",
    "    \n",
    "    # Record description metadata\n",
    "    \n",
    "    g.add((uid, RICO.title, Literal(r['M4'])))\n",
    "    if r['M5'] != '':\n",
    "        g.add((uid, RICO.scopeAndContent, Literal(r['M5'])))\n",
    "     \n",
    "    # Creator agent\n",
    "    creator = AGENT.term(str( prefix ))\n",
    "    g.add((uid, RICO.hasCreator, creator))\n",
    "        \n",
    "    # Version and dates\n",
    "    \n",
    "    g.add((uid, PREMIS.version, Literal(version)))\n",
    "    \n",
    "    date = BNode()\n",
    "    g.add((date, RICO.type, RICO.SingleDate ))\n",
    "    g.add((date, RICO.name, Literal('date de validation') ))\n",
    "    g.add((date, RICO.normalizedDateVelue, Literal(validationDate) ))\n",
    "    g.add((uid, RICO.beginningDate, date))\n",
    "    \n",
    "    dateEnd = BNode()\n",
    "    g.add((dateEnd, RICO.type, RICO.SingleDate ))\n",
    "    g.add((dateEnd, RICO.normalizedDateVelue, Literal(validationDate_2) ))\n",
    "    g.add((uid, RICO.endDate, dateEnd))\n",
    "    \n",
    "    if sysId in sysIds_2 :\n",
    "        g.add((uid, RICO.precedesInTime, uid_2))\n",
    " \n",
    "    # Rules\n",
    "    \n",
    "    personalData= r['M13_ExternalId']\n",
    "    pDN = BNode()\n",
    "    g.add((pDN, RDF.type, RICO.Rule))\n",
    "    g.add((pDN, RICO.hasOrHadRuleType, TYPE.DonneesPersonnelles  ))\n",
    "    g.add((pDN, RICO.name, Literal(personalData) )) \n",
    "    g.add((uid, RICO.isAssociatedWithRule, pDN))\n",
    "    \n",
    "    closingPeriod = 'P' + r['M18.1_ExternalId'].replace('-','1').replace('A','') + 'Y'\n",
    "    cP = BNode()\n",
    "    g.add((cP, RDF.type, RICO.Rule))\n",
    "    g.add( (cP, RICO.hasOrHadRuleType, TYPE.RegleCloture ) )\n",
    "    g.add((cP, RDF.value, Literal(closingPeriod, datatype=XSD.duration) )) \n",
    "    g.add((uid, RICO.isAssociatedWithRule, cP))\n",
    "    \n",
    "    retentionPeriod =  'P' + r['M22'].replace('-','1').replace('A','') + 'Y'\n",
    "    DU = BNode()\n",
    "    g.add((DU, RDF.type, RICO.Rule))\n",
    "    g.add((DU, RICO.hasOrHadRuleType, TYPE.DureeUtilite  ))\n",
    "    g.add((DU, RDF.value, Literal(retentionPeriod, datatype=XSD.duration) )) \n",
    "    g.add((uid, RICO.isAssociatedWithRule, DU))\n",
    "    \n",
    "    # Save\n",
    "    \n",
    "    ttl = g.serialize(format=\"turtle\", encoding='utf-8')\n",
    "    with  open( output_folder+os.sep+sysId.replace(':','-')+'_'+str(version)+'.ttl', 'wb' ) as ttlf:\n",
    "        ttlf.write(ttl)\n",
    "    #print(ttl.decode('utf-8'))\n",
    "\n"
   ]
  },
  {
   "cell_type": "code",
   "execution_count": 33,
   "metadata": {},
   "outputs": [],
   "source": [
    "for ix, r in df2.iterrows():\n",
    "    \n",
    "    # Graph\n",
    "    \n",
    "    g = Graph()\n",
    "    g.namespace_manager.bind('rico', URIRef(rico_ns))\n",
    "    g.namespace_manager.bind('premis', URIRef(premis_ns))\n",
    "    g.namespace_manager.bind('record', URIRef(record_ns))\n",
    "    g.namespace_manager.bind('agent', URIRef(agent_ns))\n",
    "    g.namespace_manager.bind('type', URIRef(type_ns))\n",
    "\n",
    "    # Record and its identifiers\n",
    "    \n",
    "    sysId = r['M1']\n",
    "    sysid = BNode()\n",
    "    g.add((sysid, RDF.type, RICO.Identifier))\n",
    "    g.add((sysid, RICO.hasIdentifierType, TYPE.IdRefGD ))\n",
    "    g.add((sysid, RICO.name, Literal(sysId) ))\n",
    "    \n",
    "    refCode  = r['M3']\n",
    "    refcode = BNode()\n",
    "    g.add((refcode, RDF.type, RICO.Identifier))\n",
    "    g.add((refcode, RICO.hasIdentifierType, TYPE.CoteIntellectuelle ))\n",
    "    g.add((refcode, RICO.name, Literal(refCode) ))\n",
    " \n",
    "    uid = RECORD.term(str(sysId) + '_' + str(version_2))\n",
    "    uid_2 = RECORD.term(str(sysId) + '_' + str(version_3))\n",
    "    uid_old = RECORD.term(str(sysId) + '_' + str(version))\n",
    "    \n",
    "    g.add((uid, RDF.type, RICO.RecordSet))\n",
    "    g.add((uid, RDF.type, TYPE.RefGD))\n",
    "    g.add((uid, RICO.recordSetType, TYPE.RefGD))\n",
    "    g.add((uid, RICO.hasOrHadIdentifier, sysid))\n",
    "    g.add((uid, RICO.hasOrHadIdentifier, refcode))\n",
    "    \n",
    "    # Record parent\n",
    "    \n",
    "    if sysId in parents.keys():\n",
    "        parent = RECORD.term(str( parents[sysId] + '_' + version ))\n",
    "        g.add((uid, RICO.isOrWasIncludedIn, parent))\n",
    "    \n",
    "    # Record description metadata\n",
    "    \n",
    "    g.add((uid, RICO.title, Literal(r['M4'])))\n",
    "    if r['M5'] != '':\n",
    "        g.add((uid, RICO.scopeAndContent, Literal(r['M5'])))\n",
    "     \n",
    "    # Creator agent\n",
    "    creator = AGENT.term(str( prefix ))\n",
    "    g.add((uid, RICO.hasCreator, creator))\n",
    "        \n",
    "    # Version and dates\n",
    "    \n",
    "    g.add((uid, PREMIS.version, Literal(version_2)))\n",
    "    \n",
    "    date = BNode()\n",
    "    g.add((date, RICO.type, RICO.SingleDate ))\n",
    "    g.add((date, RICO.name, Literal('date de validation') ))\n",
    "    g.add((date, RICO.normalizedDateVelue, Literal(validationDate_2) ))\n",
    "    g.add((uid, RICO.beginningDate, date))\n",
    "    \n",
    "    dateEnd = BNode()\n",
    "    g.add((dateEnd, RICO.type, RICO.SingleDate ))\n",
    "    g.add((dateEnd, RICO.normalizedDateVelue, Literal(validationDate_3) ))\n",
    "    g.add((uid, RICO.endDate, dateEnd))\n",
    "\n",
    "    if sysId in sysIds_3 :\n",
    "        g.add((uid, RICO.precedesInTime, uid_2))\n",
    "    \n",
    "    if sysId in sysIds :\n",
    "        g.add((uid, RICO.followsInTime, uid_old))\n",
    " \n",
    "    # Rules\n",
    "    \n",
    "    personalData= r['M13_ExternalId']\n",
    "    pDN = BNode()\n",
    "    g.add((pDN, RDF.type, RICO.Rule))\n",
    "    g.add((pDN, RICO.hasOrHadRuleType, TYPE.DonneesPersonnelles  ))\n",
    "    g.add((pDN, RICO.name, Literal(personalData) )) \n",
    "    g.add((uid, RICO.isAssociatedWithRule, pDN))\n",
    "    \n",
    "    closingPeriod = 'P' + r['M18.1_ExternalId'].replace('-','1').replace('A','') + 'Y'\n",
    "    cP = BNode()\n",
    "    g.add((cP, RDF.type, RICO.Rule))\n",
    "    g.add( (cP, RICO.hasOrHadRuleType, TYPE.RegleCloture ) )\n",
    "    g.add((cP, RDF.value, Literal(closingPeriod, datatype=XSD.duration) )) \n",
    "    g.add((uid, RICO.isAssociatedWithRule, cP))\n",
    "    \n",
    "    retentionPeriod =  'P' + r['M22'].replace('-','1').replace('A','') + 'Y'\n",
    "    DU = BNode()\n",
    "    g.add((DU, RDF.type, RICO.Rule))\n",
    "    g.add((DU, RICO.hasOrHadRuleType, TYPE.DureeUtilite  ))\n",
    "    g.add((DU, RDF.value, Literal(retentionPeriod, datatype=XSD.duration) )) \n",
    "    g.add((uid, RICO.isAssociatedWithRule, DU))\n",
    "    \n",
    "    # Save\n",
    "    \n",
    "    ttl = g.serialize(format=\"turtle\", encoding='utf-8')\n",
    "    with  open( output_folder+os.sep+sysId.replace(':','-')+'_'+str(version_2)+'.ttl', 'wb' ) as ttlf:\n",
    "        ttlf.write(ttl)\n",
    "    #print(ttl.decode('utf-8'))\n",
    "\n"
   ]
  },
  {
   "cell_type": "code",
   "execution_count": 34,
   "metadata": {},
   "outputs": [],
   "source": [
    "for ix, r in df3.iterrows():\n",
    "    \n",
    "    # Graph\n",
    "    \n",
    "    g = Graph()\n",
    "    g.namespace_manager.bind('rico', URIRef(rico_ns))\n",
    "    g.namespace_manager.bind('premis', URIRef(premis_ns))\n",
    "    g.namespace_manager.bind('record', URIRef(record_ns))\n",
    "    g.namespace_manager.bind('agent', URIRef(agent_ns))\n",
    "    g.namespace_manager.bind('type', URIRef(type_ns))\n",
    " \n",
    "    # Record and its identifiers\n",
    "    \n",
    "    sysId = r['M1']\n",
    "    sysid = BNode()\n",
    "    g.add((sysid, RDF.type, RICO.Identifier))\n",
    "    g.add((sysid, RICO.hasIdentifierType, TYPE.IdRefGD ))\n",
    "    g.add((sysid, RICO.name, Literal(sysId) ))\n",
    "    \n",
    "    refCode  = r['M3']\n",
    "    refcode = BNode()\n",
    "    g.add((refcode, RDF.type, RICO.Identifier))\n",
    "    g.add((refcode, RICO.hasIdentifierType, TYPE.CoteIntellectuelle ))\n",
    "    g.add((refcode, RICO.name, Literal(refCode) ))\n",
    " \n",
    "    uid = RECORD.term(str(sysId) + '_' + str(version_3))\n",
    "    #uid_2 = RECORD.term(str(sysId) + '_' + str(version_3))\n",
    "    uid_old = RECORD.term(str(sysId) + '_' + str(version_2))\n",
    "    \n",
    "    g.add((uid, RDF.type, RICO.RecordSet))\n",
    "    g.add((uid, RDF.type, TYPE.RefGD))\n",
    "    g.add((uid, RICO.recordSetType, TYPE.RefGD))\n",
    "    g.add((uid, RICO.hasOrHadIdentifier, sysid))\n",
    "    g.add((uid, RICO.hasOrHadIdentifier, refcode))\n",
    "    \n",
    "    # Record parent\n",
    "    \n",
    "    if sysId in parents.keys():\n",
    "        parent = RECORD.term(str( parents[sysId] + '_' + version ))\n",
    "        g.add((uid, RICO.isOrWasIncludedIn, parent))\n",
    "    \n",
    "    # Record description metadata\n",
    "    \n",
    "    g.add((uid, RICO.title, Literal(r['M4'])))\n",
    "    if r['M5'] != '':\n",
    "        g.add((uid, RICO.scopeAndContent, Literal(r['M5'])))\n",
    "     \n",
    "    # Creator agent\n",
    "    creator = AGENT.term(str( prefix ))\n",
    "    g.add((uid, RICO.hasCreator, creator))\n",
    "        \n",
    "    # Version and dates\n",
    "    \n",
    "    g.add((uid, PREMIS.version, Literal(version_3)))\n",
    "    \n",
    "    date = BNode()\n",
    "    g.add((date, RICO.type, RICO.SingleDate ))\n",
    "    g.add((date, RICO.name, Literal('date de validation') ))\n",
    "    g.add((date, RICO.normalizedDateVelue, Literal(validationDate_2) ))\n",
    "    g.add((uid, RICO.beginningDate, date))\n",
    "\n",
    "    #if sysId in sysIds_3 :\n",
    "    #    g.add((uid, RICO.precedesInTime, uid_2))\n",
    "    \n",
    "    if sysId in sysIds :\n",
    "        g.add((uid, RICO.followsInTime, uid_old))\n",
    " \n",
    "    # Rules\n",
    "    \n",
    "    personalData= r['M13_ExternalId']\n",
    "    pDN = BNode()\n",
    "    g.add((pDN, RDF.type, RICO.Rule))\n",
    "    g.add((pDN, RICO.hasOrHadRuleType, TYPE.DonneesPersonnelles ))\n",
    "    g.add((pDN, RICO.name, Literal(personalData) )) \n",
    "    g.add((uid, RICO.isAssociatedWithRule, pDN))\n",
    "    \n",
    "    closingPeriod = 'P' + r['M18.1_ExternalId'].replace('-','1').replace('A','') + 'Y'\n",
    "    cP = BNode()\n",
    "    g.add((cP, RDF.type, RICO.Rule))\n",
    "    g.add( (cP, RICO.hasOrHadRuleType, TYPE.RegleCloture ) )\n",
    "    g.add((cP, RDF.value, Literal(closingPeriod, datatype=XSD.duration) )) \n",
    "    g.add((uid, RICO.isAssociatedWithRule, cP))\n",
    "    \n",
    "    retentionPeriod =  'P' + r['M22'].replace('-','1').replace('A','') + 'Y'\n",
    "    DU = BNode()\n",
    "    g.add((DU, RDF.type, RICO.Rule))\n",
    "    g.add((DU, RICO.hasOrHadRuleType, TYPE.DureeUtilite ))\n",
    "    g.add((DU, RDF.value, Literal(retentionPeriod, datatype=XSD.duration) )) \n",
    "    g.add((uid, RICO.isAssociatedWithRule, DU))\n",
    "    \n",
    "    # Save\n",
    "    \n",
    "    ttl = g.serialize(format=\"turtle\", encoding='utf-8')\n",
    "    with  open( output_folder+os.sep+sysId.replace(':','-')+'_'+str(version_3)+'.ttl', 'wb' ) as ttlf:\n",
    "        ttlf.write(ttl)\n",
    "    #print(ttl.decode('utf-8'))\n",
    "\n"
   ]
  },
  {
   "cell_type": "markdown",
   "metadata": {},
   "source": [
    "### Concatenate generated records"
   ]
  },
  {
   "cell_type": "code",
   "execution_count": 35,
   "metadata": {},
   "outputs": [
    {
     "data": {
      "text/plain": [
       "832640"
      ]
     },
     "execution_count": 35,
     "metadata": {},
     "output_type": "execute_result"
    }
   ],
   "source": [
    "prefixes = set([])\n",
    "refGDrico = ''\n",
    "\n",
    "for f in os.listdir(output_folder):\n",
    "    lines = open(output_folder+os.sep+f).readlines()\n",
    "    for l in lines:\n",
    "        if l.startswith('@prefix'):\n",
    "            prefixes.add(l)\n",
    "        else:\n",
    "            refGDrico += l\n",
    "\n",
    "p = ''.join(list(prefixes))\n",
    "open('rico.ttl', 'w').write( p+refGDrico )\n",
    "    "
   ]
  }
 ],
 "metadata": {
  "kernelspec": {
   "display_name": "Python 3 (ipykernel)",
   "language": "python",
   "name": "python3"
  },
  "language_info": {
   "codemirror_mode": {
    "name": "ipython",
    "version": 3
   },
   "file_extension": ".py",
   "mimetype": "text/x-python",
   "name": "python",
   "nbconvert_exporter": "python",
   "pygments_lexer": "ipython3",
   "version": "3.9.12"
  }
 },
 "nbformat": 4,
 "nbformat_minor": 2
}
